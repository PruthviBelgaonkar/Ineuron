{
 "cells": [
  {
   "cell_type": "code",
   "execution_count": null,
   "metadata": {},
   "outputs": [],
   "source": [
    "Q1)\n",
    "The values of boolean datatype are \n",
    "i)True\n",
    "ii)False\n",
    "In python T is captial is True and F is captial is False"
   ]
  },
  {
   "cell_type": "code",
   "execution_count": null,
   "metadata": {},
   "outputs": [],
   "source": [
    "Q2)\n",
    "Following are the three types of boolean operators\n",
    "i) and\n",
    "ii) or\n",
    "iii) not"
   ]
  },
  {
   "cell_type": "code",
   "execution_count": null,
   "metadata": {},
   "outputs": [],
   "source": [
    "Q3)\n",
    "i) AND opertor truth table:\n",
    "    True and True = True\n",
    "    True and False = False\n",
    "    False and True = False\n",
    "    False and False = False\n",
    "In AND opertor you will get True if and only if both are True\n",
    "\n",
    "ii) OR operator truth table:\n",
    "        True or True = True\n",
    "        True or False = True\n",
    "        False or True = True\n",
    "        False or False = False\n",
    "In OR opertor you will get False if and only if both are False\n",
    "\n",
    "iii) NOT operator truth table:\n",
    "        not True= False\n",
    "        not False = True\n",
    "In NOT opertor you will get opposite of your input"
   ]
  },
  {
   "cell_type": "code",
   "execution_count": null,
   "metadata": {},
   "outputs": [],
   "source": [
    "Q4)\n",
    "i)(5 > 4) and (3 == 5)\n",
    " ==> False as 3==5 is False\n",
    "    \n",
    "ii)not (5 > 4)\n",
    " ==> False, 5>4 is true but due to not it becomes False\n",
    "    \n",
    "iii)(5 > 4) or (3 == 5)\n",
    "==> True as one of exp is True\n",
    "\n",
    "iv)not ((5 > 4) or (3 == 5))\n",
    "==> False , inner exp is True but due to not it become False\n",
    "\n",
    "v)(True and True) and (True == False)\n",
    "==> False, as (True == False) exp is False\n",
    "\n",
    "vi)(not False) or (not True)\n",
    "==>True, as not False is True\n"
   ]
  },
  {
   "cell_type": "code",
   "execution_count": 5,
   "metadata": {},
   "outputs": [
    {
     "data": {
      "text/plain": [
       "False"
      ]
     },
     "execution_count": 5,
     "metadata": {},
     "output_type": "execute_result"
    }
   ],
   "source": [
    "(5 > 4) and (3 == 5)"
   ]
  },
  {
   "cell_type": "code",
   "execution_count": 6,
   "metadata": {},
   "outputs": [
    {
     "data": {
      "text/plain": [
       "False"
      ]
     },
     "execution_count": 6,
     "metadata": {},
     "output_type": "execute_result"
    }
   ],
   "source": [
    "not (5 > 4)"
   ]
  },
  {
   "cell_type": "code",
   "execution_count": 7,
   "metadata": {},
   "outputs": [
    {
     "data": {
      "text/plain": [
       "True"
      ]
     },
     "execution_count": 7,
     "metadata": {},
     "output_type": "execute_result"
    }
   ],
   "source": [
    "(5 > 4) or (3 == 5)"
   ]
  },
  {
   "cell_type": "code",
   "execution_count": 8,
   "metadata": {},
   "outputs": [
    {
     "data": {
      "text/plain": [
       "False"
      ]
     },
     "execution_count": 8,
     "metadata": {},
     "output_type": "execute_result"
    }
   ],
   "source": [
    "not ((5 > 4) or (3 == 5))"
   ]
  },
  {
   "cell_type": "code",
   "execution_count": 9,
   "metadata": {},
   "outputs": [
    {
     "data": {
      "text/plain": [
       "False"
      ]
     },
     "execution_count": 9,
     "metadata": {},
     "output_type": "execute_result"
    }
   ],
   "source": [
    "(True and True) and (True == False)"
   ]
  },
  {
   "cell_type": "code",
   "execution_count": 10,
   "metadata": {},
   "outputs": [
    {
     "data": {
      "text/plain": [
       "True"
      ]
     },
     "execution_count": 10,
     "metadata": {},
     "output_type": "execute_result"
    }
   ],
   "source": [
    "(not False) or (not True)"
   ]
  },
  {
   "cell_type": "code",
   "execution_count": null,
   "metadata": {},
   "outputs": [],
   "source": [
    "Q5)\n",
    "Following are six comparison operators:-\n",
    "\n",
    "1) > (greater than)\n",
    "\n",
    "2) < (less than)\n",
    "\n",
    "3) == (equal to)\n",
    "\n",
    "4) != (not equal to)\n",
    "\n",
    "5) >= (greater than or equal to)\n",
    "\n",
    "6) <= (less than or equal to)"
   ]
  },
  {
   "cell_type": "code",
   "execution_count": null,
   "metadata": {},
   "outputs": [],
   "source": [
    "Q6)\n",
    "\n",
    "Equal to (==):-\n",
    "    Equal to is a comparsion opearator which returns either True or False\n",
    "    In comparsion operations like\n",
    "    a=5,b=6\n",
    "    if a==b:\n",
    "        return b\n",
    "    else:\n",
    "        return a\n",
    "    \n",
    "Assignment (=):-\n",
    "    Assignment is a Assignment opearator which is used to assign a value to a variable\n",
    "    In above 5 is assigned to variable a and 6 to variable b"
   ]
  },
  {
   "cell_type": "code",
   "execution_count": null,
   "metadata": {},
   "outputs": [],
   "source": [
    "Q7)\n",
    "\n",
    "The ouptut of that code fof block will be the print statements in the else block as spam is 0 and both if conditions becomes false so it will execute the else block"
   ]
  },
  {
   "cell_type": "code",
   "execution_count": 13,
   "metadata": {},
   "outputs": [
    {
     "name": "stdout",
     "output_type": "stream",
     "text": [
      "ham\n",
      "spam\n",
      "spam\n"
     ]
    }
   ],
   "source": [
    "spam = 0\n",
    "if spam == 10:\n",
    "    print(\"eggs\")\n",
    "if spam > 5:\n",
    "    print(\"bacon\")\n",
    "else:\n",
    "    print(\"ham\")\n",
    "    print(\"spam\")\n",
    "    print(\"spam\")"
   ]
  },
  {
   "cell_type": "code",
   "execution_count": 14,
   "metadata": {},
   "outputs": [
    {
     "name": "stdout",
     "output_type": "stream",
     "text": [
      "1\n",
      "Hello\n"
     ]
    }
   ],
   "source": [
    "#Q8) Solution\n",
    "\n",
    "spam=int(input())\n",
    "if spam==1:\n",
    "    print(\"Hello\")\n",
    "elif spam==2:\n",
    "    print(\"Howdy\")\n",
    "else:\n",
    "    print(\"Greetings!\")\n",
    "    \n"
   ]
  },
  {
   "cell_type": "code",
   "execution_count": null,
   "metadata": {},
   "outputs": [],
   "source": [
    "Q9)\n",
    "\n",
    "You can press the stop button and interrupt the kernel\n",
    "or press ctrl + c"
   ]
  },
  {
   "cell_type": "code",
   "execution_count": null,
   "metadata": {},
   "outputs": [],
   "source": [
    "Q10)\n",
    "\n",
    "Break :- Break statements leads to an immediate exit of the innermost loop\n",
    "    \n",
    "Continue :- Continue Statement begins the next iteration of the loop\n",
    "    \n",
    "Eg:-\n",
    "    a=5\n",
    "    for i in a:\n",
    "        if i==3:\n",
    "            continue\n",
    "        elif i==4:\n",
    "            break\n",
    "            \n",
    "if i==3 there will be no operation and it will go again to for loop\n",
    "when i==4 its break the loop and exits the code"
   ]
  },
  {
   "cell_type": "code",
   "execution_count": null,
   "metadata": {},
   "outputs": [],
   "source": [
    "Q11)\n",
    "\n",
    "There is no difference in output of this three for loops \n",
    "\n",
    "In first for loop the start range and step is not defined so default it takes starting range as 0 an step as 1\n",
    "\n",
    "In second for loop the step is not defined ,by default it takes step=1\n",
    "\n",
    "In third for loop all parameters are defined and are set to default values \n",
    "\n",
    "All the three loop will run from 0 to 9"
   ]
  },
  {
   "cell_type": "code",
   "execution_count": 20,
   "metadata": {},
   "outputs": [
    {
     "name": "stdout",
     "output_type": "stream",
     "text": [
      "1\n",
      "2\n",
      "3\n",
      "4\n",
      "5\n",
      "6\n",
      "7\n",
      "8\n",
      "9\n",
      "10\n"
     ]
    }
   ],
   "source": [
    "#Q12) Solution using for loop\n",
    "\n",
    "for i in range(1,11):\n",
    "    print(i)"
   ]
  },
  {
   "cell_type": "code",
   "execution_count": 22,
   "metadata": {},
   "outputs": [
    {
     "name": "stdout",
     "output_type": "stream",
     "text": [
      "1\n",
      "2\n",
      "3\n",
      "4\n",
      "5\n",
      "6\n",
      "7\n",
      "8\n",
      "9\n",
      "10\n"
     ]
    }
   ],
   "source": [
    "#Q12)Solution using while loop\n",
    "\n",
    "a=1\n",
    "\n",
    "while a<=10:\n",
    "    print(a)\n",
    "    a=a+1\n"
   ]
  },
  {
   "cell_type": "code",
   "execution_count": null,
   "metadata": {},
   "outputs": [],
   "source": [
    "Q13)\n",
    "\n",
    "This function can be called by using spam.bacon()"
   ]
  }
 ],
 "metadata": {
  "kernelspec": {
   "display_name": "Python 3",
   "language": "python",
   "name": "python3"
  },
  "language_info": {
   "codemirror_mode": {
    "name": "ipython",
    "version": 3
   },
   "file_extension": ".py",
   "mimetype": "text/x-python",
   "name": "python",
   "nbconvert_exporter": "python",
   "pygments_lexer": "ipython3",
   "version": "3.8.5"
  },
  "toc": {
   "base_numbering": 1,
   "nav_menu": {},
   "number_sections": true,
   "sideBar": true,
   "skip_h1_title": false,
   "title_cell": "Table of Contents",
   "title_sidebar": "Contents",
   "toc_cell": false,
   "toc_position": {},
   "toc_section_display": true,
   "toc_window_display": false
  },
  "varInspector": {
   "cols": {
    "lenName": 16,
    "lenType": 16,
    "lenVar": 40
   },
   "kernels_config": {
    "python": {
     "delete_cmd_postfix": "",
     "delete_cmd_prefix": "del ",
     "library": "var_list.py",
     "varRefreshCmd": "print(var_dic_list())"
    },
    "r": {
     "delete_cmd_postfix": ") ",
     "delete_cmd_prefix": "rm(",
     "library": "var_list.r",
     "varRefreshCmd": "cat(var_dic_list()) "
    }
   },
   "types_to_exclude": [
    "module",
    "function",
    "builtin_function_or_method",
    "instance",
    "_Feature"
   ],
   "window_display": false
  }
 },
 "nbformat": 4,
 "nbformat_minor": 4
}
